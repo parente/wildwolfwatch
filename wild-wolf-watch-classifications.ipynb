{
 "cells": [
  {
   "cell_type": "markdown",
   "metadata": {},
   "source": [
    "# Wild Wolf Watch Observations\n",
    "\n",
    "> Here’s a link to [our] project: https://www.zooniverse.org/projects/mlsmax/wild-wolf-watch, which focuses on classifying trap-camera photos from Eastern NC in order to get a better picture of the biological diversity after the reintroduction of critically endangered Red Wolves into the region (there’s a lot more you can read about the project on the site as well).\n",
    "\n",
    "> Basically, we’re running into trouble with the data exports from the website. Some of the columns have nested JSON that I would like to have unnested and use for data analysis.\n",
    "\n",
    "> I’ve gone ahead and attached an excel file of what our data exports right now look like. Essentially, what we’re looking for is all nested in the Annotations column.\n",
    "\n",
    "In this notebook, I'll show how to unpack the `annotations` column in the example dataset into a separate Pandas DataFrame. I'll also demonstrate how to join this new DataFrame with select columns from the original. \n",
    "\n",
    "Ultimately, I'd love to see the images rendered inline in the notebook next to the annotations, but I haven't found a way to reference the images using the subject IDs or filename in the dataset. Maybe there's more data available for export? Or a way to look up the image given a subject ID using the Zooniverse API?"
   ]
  },
  {
   "cell_type": "markdown",
   "metadata": {},
   "source": [
    "## Load the data"
   ]
  },
  {
   "cell_type": "code",
   "execution_count": 1,
   "metadata": {},
   "outputs": [],
   "source": [
    "import json\n",
    "import pandas as pd\n",
    "pd.options.display.max_colwidth = 1024"
   ]
  },
  {
   "cell_type": "markdown",
   "metadata": {},
   "source": [
    "The data sample is in the same folder as this notebook. I read it into a `pandas.DataFrame`."
   ]
  },
  {
   "cell_type": "code",
   "execution_count": 2,
   "metadata": {},
   "outputs": [],
   "source": [
    "raw_df = pd.read_csv('./wild-wolf-watch-classifications.csv')"
   ]
  },
  {
   "cell_type": "markdown",
   "metadata": {},
   "source": [
    "I need to get a sense of the data structure. Here I pull a sample of 5 rows. I run this notebook cell multiple times and note how the values different across rows."
   ]
  },
  {
   "cell_type": "code",
   "execution_count": 3,
   "metadata": {},
   "outputs": [
    {
     "data": {
      "text/html": [
       "<div>\n",
       "<style scoped>\n",
       "    .dataframe tbody tr th:only-of-type {\n",
       "        vertical-align: middle;\n",
       "    }\n",
       "\n",
       "    .dataframe tbody tr th {\n",
       "        vertical-align: top;\n",
       "    }\n",
       "\n",
       "    .dataframe thead th {\n",
       "        text-align: right;\n",
       "    }\n",
       "</style>\n",
       "<table border=\"1\" class=\"dataframe\">\n",
       "  <thead>\n",
       "    <tr style=\"text-align: right;\">\n",
       "      <th></th>\n",
       "      <th>classification_id</th>\n",
       "      <th>user_name</th>\n",
       "      <th>user_id</th>\n",
       "      <th>user_ip</th>\n",
       "      <th>workflow_id</th>\n",
       "      <th>workflow_name</th>\n",
       "      <th>workflow_version</th>\n",
       "      <th>created_at</th>\n",
       "      <th>gold_standard</th>\n",
       "      <th>expert</th>\n",
       "      <th>metadata</th>\n",
       "      <th>annotations</th>\n",
       "      <th>subject_data</th>\n",
       "      <th>subject_ids</th>\n",
       "    </tr>\n",
       "  </thead>\n",
       "  <tbody>\n",
       "    <tr>\n",
       "      <th>1495</th>\n",
       "      <td>74012494</td>\n",
       "      <td>not-logged-in-2d82cb35f742f2da4e42</td>\n",
       "      <td>NaN</td>\n",
       "      <td>2d82cb35f742f2da4e42</td>\n",
       "      <td>4466</td>\n",
       "      <td>Classify Motion-Activated Camera Pictures</td>\n",
       "      <td>47.58</td>\n",
       "      <td>2017-10-11 15:36:08 UTC</td>\n",
       "      <td>NaN</td>\n",
       "      <td>NaN</td>\n",
       "      <td>{\"session\":\"0a08ba779177efc3ec72ee5ff5ccf2c33448acc3c1dfe0e54e8a1288dd2c9987\",\"viewport\":{\"width\":768,\"height\":960},\"started_at\":\"2017-10-11T15:35:18.804Z\",\"user_agent\":\"Mozilla/5.0 (iPad; CPU OS 10_3_3 like Mac OS X) AppleWebKit/603.3.8 (KHTML, like Gecko) Version/10.0 Mobile/14G60 Safari/602.1\",\"utc_offset\":\"14400\",\"finished_at\":\"2017-10-11T15:36:08.791Z\",\"live_project\":false,\"user_language\":\"en\",\"subject_dimensions\":[{\"clientWidth\":722,\"clientHeight\":406,\"naturalWidth\":1152,\"naturalHeight\":648}]}</td>\n",
       "      <td>[{\"task\":\"T0\",\"value\":[{\"choice\":\"REDWOLF\",\"answers\":{\"HOWMANY\":\"6\",\"WHATBEHAVIORSDOYOUSEE\":[\"STANDING\"]},\"filters\":{}}]}]</td>\n",
       "      <td>{\"10710592\":{\"retired\":null,\"Filename\":\"mfdc9077_34257388274_o.jpg\"}}</td>\n",
       "      <td>10710592</td>\n",
       "    </tr>\n",
       "    <tr>\n",
       "      <th>2668</th>\n",
       "      <td>74448595</td>\n",
       "      <td>not-logged-in-2d82cb35f742f2da4e42</td>\n",
       "      <td>NaN</td>\n",
       "      <td>2d82cb35f742f2da4e42</td>\n",
       "      <td>4466</td>\n",
       "      <td>Classify Motion-Activated Camera Pictures</td>\n",
       "      <td>47.58</td>\n",
       "      <td>2017-10-14 16:11:07 UTC</td>\n",
       "      <td>NaN</td>\n",
       "      <td>NaN</td>\n",
       "      <td>{\"session\":\"0270d88bc08a2f6a30d73f509cda60b9957fbc4b020f06a72ac08ebc6491e1a2\",\"viewport\":{\"width\":1024,\"height\":704},\"started_at\":\"2017-10-14T16:11:02.424Z\",\"user_agent\":\"Mozilla/5.0 (iPad; CPU OS 10_3_3 like Mac OS X) AppleWebKit/603.3.8 (KHTML, like Gecko) Version/10.0 Mobile/14G60 Safari/602.1\",\"utc_offset\":\"14400\",\"finished_at\":\"2017-10-14T16:11:07.172Z\",\"live_project\":false,\"user_language\":\"en\",\"subject_dimensions\":[{\"clientWidth\":433,\"clientHeight\":244,\"naturalWidth\":1152,\"naturalHeight\":648}]}</td>\n",
       "      <td>[{\"task\":\"T0\",\"value\":[{\"choice\":\"IMNOTSURE\",\"answers\":{},\"filters\":{}}]}]</td>\n",
       "      <td>{\"10710505\":{\"retired\":null,\"Filename\":\"mfdc8913_34257391434_o.jpg\"}}</td>\n",
       "      <td>10710505</td>\n",
       "    </tr>\n",
       "    <tr>\n",
       "      <th>3240</th>\n",
       "      <td>78455743</td>\n",
       "      <td>not-logged-in-15759e250e28f051a923</td>\n",
       "      <td>NaN</td>\n",
       "      <td>15759e250e28f051a923</td>\n",
       "      <td>4466</td>\n",
       "      <td>Classify Motion-Activated Camera Pictures</td>\n",
       "      <td>47.58</td>\n",
       "      <td>2017-11-14 16:35:56 UTC</td>\n",
       "      <td>NaN</td>\n",
       "      <td>NaN</td>\n",
       "      <td>{\"session\":\"7e801f73cb80b5c7b800c2f2a5006132ca9cd53c01b036d7f03188e01debd6c4\",\"viewport\":{\"width\":1024,\"height\":672},\"started_at\":\"2017-11-14T16:35:38.875Z\",\"user_agent\":\"Mozilla/5.0 (iPad; CPU OS 10_3_3 like Mac OS X) AppleWebKit/603.3.8 (KHTML, like Gecko) Version/10.0 Mobile/14G60 Safari/602.1\",\"utc_offset\":\"18000\",\"finished_at\":\"2017-11-14T16:35:56.311Z\",\"live_project\":false,\"user_language\":\"en\",\"subject_dimensions\":[{\"clientWidth\":433,\"clientHeight\":244,\"naturalWidth\":1152,\"naturalHeight\":648}]}</td>\n",
       "      <td>[{\"task\":\"T0\",\"value\":[{\"choice\":\"BEAR\",\"answers\":{\"HOWMANY\":\"1\",\"WHATBEHAVIORSDOYOUSEE\":[\"INTERACTING\"],\"ARETHEREANYYOUNGPRESENT\":\"NO\"},\"filters\":{}}]}]</td>\n",
       "      <td>{\"10710318\":{\"retired\":null,\"Filename\":\"mfdc8511_34936911362_o.jpg\"}}</td>\n",
       "      <td>10710318</td>\n",
       "    </tr>\n",
       "    <tr>\n",
       "      <th>3964</th>\n",
       "      <td>85649118</td>\n",
       "      <td>mls.scilearner</td>\n",
       "      <td>1731645.0</td>\n",
       "      <td>0bc418fff731a46b07dc</td>\n",
       "      <td>4466</td>\n",
       "      <td>Classify Motion-Activated Camera Pictures</td>\n",
       "      <td>47.58</td>\n",
       "      <td>2018-01-12 19:32:28 UTC</td>\n",
       "      <td>NaN</td>\n",
       "      <td>NaN</td>\n",
       "      <td>{\"session\":\"d569c65ce913d404f10bdd9420e632cd7b8b0fe1d33366f2669fc04b94c1ce0d\",\"viewport\":{\"width\":1366,\"height\":687},\"started_at\":\"2018-01-12T19:32:12.503Z\",\"user_agent\":\"Mozilla/5.0 (X11; CrOS x86_64 9901.77.0) AppleWebKit/537.36 (KHTML, like Gecko) Chrome/62.0.3202.97 Safari/537.36\",\"utc_offset\":\"18000\",\"finished_at\":\"2018-01-12T19:32:27.551Z\",\"live_project\":false,\"user_language\":\"en\",\"user_group_ids\":[],\"subject_dimensions\":[{\"clientWidth\":754,\"clientHeight\":424,\"naturalWidth\":1152,\"naturalHeight\":648}]}</td>\n",
       "      <td>[{\"task\":\"T0\",\"value\":[{\"choice\":\"IMNOTSURE\",\"answers\":{},\"filters\":{}}]}]</td>\n",
       "      <td>{\"10710381\":{\"retired\":null,\"Filename\":\"mfdc8688_34714483180_o.jpg\"}}</td>\n",
       "      <td>10710381</td>\n",
       "    </tr>\n",
       "    <tr>\n",
       "      <th>3436</th>\n",
       "      <td>79292780</td>\n",
       "      <td>not-logged-in-aff1318505558ee5f170</td>\n",
       "      <td>NaN</td>\n",
       "      <td>aff1318505558ee5f170</td>\n",
       "      <td>4466</td>\n",
       "      <td>Classify Motion-Activated Camera Pictures</td>\n",
       "      <td>47.58</td>\n",
       "      <td>2017-11-21 04:33:23 UTC</td>\n",
       "      <td>NaN</td>\n",
       "      <td>NaN</td>\n",
       "      <td>{\"session\":\"0aa84eae8e61d69fc3daf1cf8c5cf1011d2213be482e897788d32598e7985f22\",\"viewport\":{\"width\":4098,\"height\":1911},\"started_at\":\"2017-11-21T04:33:17.737Z\",\"user_agent\":\"Mozilla/5.0 (Windows NT 10.0; Win64; x64) AppleWebKit/537.36 (KHTML, like Gecko) Chrome/62.0.3202.94 Safari/537.36\",\"utc_offset\":\"18000\",\"finished_at\":\"2017-11-21T04:33:25.319Z\",\"live_project\":false,\"user_language\":\"en\",\"subject_dimensions\":[{\"clientWidth\":1152,\"clientHeight\":648,\"naturalWidth\":1152,\"naturalHeight\":648}]}</td>\n",
       "      <td>[{\"task\":\"T0\",\"value\":[{\"choice\":\"BEAR\",\"answers\":{\"HOWMANY\":\"1\",\"WHATBEHAVIORSDOYOUSEE\":[\"STANDING\"],\"ARETHEREANYYOUNGPRESENT\":\"NO\"},\"filters\":{}}]}]</td>\n",
       "      <td>{\"10710657\":{\"retired\":null,\"Filename\":\"mfdc9235_35101383635_o.jpg\"}}</td>\n",
       "      <td>10710657</td>\n",
       "    </tr>\n",
       "  </tbody>\n",
       "</table>\n",
       "</div>"
      ],
      "text/plain": [
       "      classification_id                           user_name    user_id  \\\n",
       "1495           74012494  not-logged-in-2d82cb35f742f2da4e42        NaN   \n",
       "2668           74448595  not-logged-in-2d82cb35f742f2da4e42        NaN   \n",
       "3240           78455743  not-logged-in-15759e250e28f051a923        NaN   \n",
       "3964           85649118                      mls.scilearner  1731645.0   \n",
       "3436           79292780  not-logged-in-aff1318505558ee5f170        NaN   \n",
       "\n",
       "                   user_ip  workflow_id  \\\n",
       "1495  2d82cb35f742f2da4e42         4466   \n",
       "2668  2d82cb35f742f2da4e42         4466   \n",
       "3240  15759e250e28f051a923         4466   \n",
       "3964  0bc418fff731a46b07dc         4466   \n",
       "3436  aff1318505558ee5f170         4466   \n",
       "\n",
       "                                  workflow_name  workflow_version  \\\n",
       "1495  Classify Motion-Activated Camera Pictures             47.58   \n",
       "2668  Classify Motion-Activated Camera Pictures             47.58   \n",
       "3240  Classify Motion-Activated Camera Pictures             47.58   \n",
       "3964  Classify Motion-Activated Camera Pictures             47.58   \n",
       "3436  Classify Motion-Activated Camera Pictures             47.58   \n",
       "\n",
       "                   created_at  gold_standard  expert  \\\n",
       "1495  2017-10-11 15:36:08 UTC            NaN     NaN   \n",
       "2668  2017-10-14 16:11:07 UTC            NaN     NaN   \n",
       "3240  2017-11-14 16:35:56 UTC            NaN     NaN   \n",
       "3964  2018-01-12 19:32:28 UTC            NaN     NaN   \n",
       "3436  2017-11-21 04:33:23 UTC            NaN     NaN   \n",
       "\n",
       "                                                                                                                                                                                                                                                                                                                                                                                                                                                                                                                              metadata  \\\n",
       "1495          {\"session\":\"0a08ba779177efc3ec72ee5ff5ccf2c33448acc3c1dfe0e54e8a1288dd2c9987\",\"viewport\":{\"width\":768,\"height\":960},\"started_at\":\"2017-10-11T15:35:18.804Z\",\"user_agent\":\"Mozilla/5.0 (iPad; CPU OS 10_3_3 like Mac OS X) AppleWebKit/603.3.8 (KHTML, like Gecko) Version/10.0 Mobile/14G60 Safari/602.1\",\"utc_offset\":\"14400\",\"finished_at\":\"2017-10-11T15:36:08.791Z\",\"live_project\":false,\"user_language\":\"en\",\"subject_dimensions\":[{\"clientWidth\":722,\"clientHeight\":406,\"naturalWidth\":1152,\"naturalHeight\":648}]}   \n",
       "2668         {\"session\":\"0270d88bc08a2f6a30d73f509cda60b9957fbc4b020f06a72ac08ebc6491e1a2\",\"viewport\":{\"width\":1024,\"height\":704},\"started_at\":\"2017-10-14T16:11:02.424Z\",\"user_agent\":\"Mozilla/5.0 (iPad; CPU OS 10_3_3 like Mac OS X) AppleWebKit/603.3.8 (KHTML, like Gecko) Version/10.0 Mobile/14G60 Safari/602.1\",\"utc_offset\":\"14400\",\"finished_at\":\"2017-10-14T16:11:07.172Z\",\"live_project\":false,\"user_language\":\"en\",\"subject_dimensions\":[{\"clientWidth\":433,\"clientHeight\":244,\"naturalWidth\":1152,\"naturalHeight\":648}]}   \n",
       "3240         {\"session\":\"7e801f73cb80b5c7b800c2f2a5006132ca9cd53c01b036d7f03188e01debd6c4\",\"viewport\":{\"width\":1024,\"height\":672},\"started_at\":\"2017-11-14T16:35:38.875Z\",\"user_agent\":\"Mozilla/5.0 (iPad; CPU OS 10_3_3 like Mac OS X) AppleWebKit/603.3.8 (KHTML, like Gecko) Version/10.0 Mobile/14G60 Safari/602.1\",\"utc_offset\":\"18000\",\"finished_at\":\"2017-11-14T16:35:56.311Z\",\"live_project\":false,\"user_language\":\"en\",\"subject_dimensions\":[{\"clientWidth\":433,\"clientHeight\":244,\"naturalWidth\":1152,\"naturalHeight\":648}]}   \n",
       "3964  {\"session\":\"d569c65ce913d404f10bdd9420e632cd7b8b0fe1d33366f2669fc04b94c1ce0d\",\"viewport\":{\"width\":1366,\"height\":687},\"started_at\":\"2018-01-12T19:32:12.503Z\",\"user_agent\":\"Mozilla/5.0 (X11; CrOS x86_64 9901.77.0) AppleWebKit/537.36 (KHTML, like Gecko) Chrome/62.0.3202.97 Safari/537.36\",\"utc_offset\":\"18000\",\"finished_at\":\"2018-01-12T19:32:27.551Z\",\"live_project\":false,\"user_language\":\"en\",\"user_group_ids\":[],\"subject_dimensions\":[{\"clientWidth\":754,\"clientHeight\":424,\"naturalWidth\":1152,\"naturalHeight\":648}]}   \n",
       "3436                   {\"session\":\"0aa84eae8e61d69fc3daf1cf8c5cf1011d2213be482e897788d32598e7985f22\",\"viewport\":{\"width\":4098,\"height\":1911},\"started_at\":\"2017-11-21T04:33:17.737Z\",\"user_agent\":\"Mozilla/5.0 (Windows NT 10.0; Win64; x64) AppleWebKit/537.36 (KHTML, like Gecko) Chrome/62.0.3202.94 Safari/537.36\",\"utc_offset\":\"18000\",\"finished_at\":\"2017-11-21T04:33:25.319Z\",\"live_project\":false,\"user_language\":\"en\",\"subject_dimensions\":[{\"clientWidth\":1152,\"clientHeight\":648,\"naturalWidth\":1152,\"naturalHeight\":648}]}   \n",
       "\n",
       "                                                                                                                                                    annotations  \\\n",
       "1495                                 [{\"task\":\"T0\",\"value\":[{\"choice\":\"REDWOLF\",\"answers\":{\"HOWMANY\":\"6\",\"WHATBEHAVIORSDOYOUSEE\":[\"STANDING\"]},\"filters\":{}}]}]   \n",
       "2668                                                                                 [{\"task\":\"T0\",\"value\":[{\"choice\":\"IMNOTSURE\",\"answers\":{},\"filters\":{}}]}]   \n",
       "3240  [{\"task\":\"T0\",\"value\":[{\"choice\":\"BEAR\",\"answers\":{\"HOWMANY\":\"1\",\"WHATBEHAVIORSDOYOUSEE\":[\"INTERACTING\"],\"ARETHEREANYYOUNGPRESENT\":\"NO\"},\"filters\":{}}]}]   \n",
       "3964                                                                                 [{\"task\":\"T0\",\"value\":[{\"choice\":\"IMNOTSURE\",\"answers\":{},\"filters\":{}}]}]   \n",
       "3436     [{\"task\":\"T0\",\"value\":[{\"choice\":\"BEAR\",\"answers\":{\"HOWMANY\":\"1\",\"WHATBEHAVIORSDOYOUSEE\":[\"STANDING\"],\"ARETHEREANYYOUNGPRESENT\":\"NO\"},\"filters\":{}}]}]   \n",
       "\n",
       "                                                               subject_data  \\\n",
       "1495  {\"10710592\":{\"retired\":null,\"Filename\":\"mfdc9077_34257388274_o.jpg\"}}   \n",
       "2668  {\"10710505\":{\"retired\":null,\"Filename\":\"mfdc8913_34257391434_o.jpg\"}}   \n",
       "3240  {\"10710318\":{\"retired\":null,\"Filename\":\"mfdc8511_34936911362_o.jpg\"}}   \n",
       "3964  {\"10710381\":{\"retired\":null,\"Filename\":\"mfdc8688_34714483180_o.jpg\"}}   \n",
       "3436  {\"10710657\":{\"retired\":null,\"Filename\":\"mfdc9235_35101383635_o.jpg\"}}   \n",
       "\n",
       "      subject_ids  \n",
       "1495     10710592  \n",
       "2668     10710505  \n",
       "3240     10710318  \n",
       "3964     10710381  \n",
       "3436     10710657  "
      ]
     },
     "execution_count": 3,
     "metadata": {},
     "output_type": "execute_result"
    }
   ],
   "source": [
    "raw_df.sample(5)"
   ]
  },
  {
   "cell_type": "markdown",
   "metadata": {},
   "source": [
    "## Limit to the newest version"
   ]
  },
  {
   "cell_type": "markdown",
   "metadata": {},
   "source": [
    "The structure of the JSON in the `annotation` column appears to vary greatly with `workflow_version`. I assume this means the setup of the questionnaire on the Zooniverse site has evolved over time. I wonder how many different versions there are?"
   ]
  },
  {
   "cell_type": "code",
   "execution_count": 4,
   "metadata": {},
   "outputs": [
    {
     "data": {
      "text/plain": [
       "47.58    4484\n",
       "44.57      89\n",
       "42.56      14\n",
       "34.50      12\n",
       "43.57       6\n",
       "36.52       4\n",
       "41.55       2\n",
       "Name: workflow_version, dtype: int64"
      ]
     },
     "execution_count": 4,
     "metadata": {},
     "output_type": "execute_result"
    }
   ],
   "source": [
    "raw_df.workflow_version.value_counts()"
   ]
  },
  {
   "cell_type": "markdown",
   "metadata": {},
   "source": [
    "The vast majority of the rows are associated with version 47.58. I am going to focus on this version to keep the data transformations simple for now. (I can always come back and deal with the other rows later, if neccessary.)"
   ]
  },
  {
   "cell_type": "code",
   "execution_count": 5,
   "metadata": {},
   "outputs": [],
   "source": [
    "latest_df = raw_df[raw_df.workflow_version == 47.58].copy()"
   ]
  },
  {
   "cell_type": "markdown",
   "metadata": {},
   "source": [
    "## Unnest the annotations JSON"
   ]
  },
  {
   "cell_type": "markdown",
   "metadata": {},
   "source": [
    "The `annotations` column appears to hold the responses from users (i.e., annotators) about subjects (i.e., camera images). The responses are in JSON format with the key information in a `value` list which may have multiple elements. Here's one example, indented and with comments for readability:\n",
    "\n",
    "```\n",
    "[\n",
    "  {\n",
    "    \"task\":\"T0\",                                 # all entries have just one task at the moment\n",
    "    \"value\": [                                   # multiple annotations per camera image are possible\n",
    "      {\n",
    "        \"choice\": \"BEAR\",                        # what the user sees in the picture\n",
    "        \"answers\": {                             # follow on questions based the \"choice\"\n",
    "          \"HOWMANY\":\"1\",                         # note this is a string, not an int\n",
    "          \"WHATBEHAVIORSDOYOUSEE\": [\"STANDING\"], # can have multiple values\n",
    "          \"ARETHEREANYYOUNGPRESENT\":\"NO\"\n",
    "        },\n",
    "        \"filters\": {}\n",
    "      }\n",
    "    ]\n",
    "  }\n",
    "]\n",
    "```"
   ]
  },
  {
   "cell_type": "markdown",
   "metadata": {},
   "source": [
    "I can unnest this column into its own DataFrame. Since there can be multiple annotations per subject (i.e., row in the original table), I need to include a key that can link the annotations DataFrame with the original. The `classification_id` column looks like a reasonable choice. I need to make sure it's unique across all rows first."
   ]
  },
  {
   "cell_type": "code",
   "execution_count": 6,
   "metadata": {},
   "outputs": [
    {
     "data": {
      "text/plain": [
       "True"
      ]
     },
     "execution_count": 6,
     "metadata": {},
     "output_type": "execute_result"
    }
   ],
   "source": [
    "latest_df.classification_id.nunique() == len(latest_df)"
   ]
  },
  {
   "cell_type": "markdown",
   "metadata": {},
   "source": [
    "Perfect.\n",
    "\n",
    "There is a handy function, `pandas.io.json.json_normalize`, that can do the heavy lifting of exploding a list of JSON objects into a DataFrame. I need to do some prep work for it to work properly.\n",
    "\n",
    "First, I need to decode the JSON strings in the `annotations` column into real Python objects (e.g., lists, dictionaries, etc.) and make sure every row has just one Python dictionary (i.e., a single task). As I noted above, it looks like there's a single task per row at present, so all I need to do here is validate that assumption and fetch the first task list element."
   ]
  },
  {
   "cell_type": "code",
   "execution_count": 7,
   "metadata": {},
   "outputs": [],
   "source": [
    "def load_json(value):\n",
    "    \"\"\"Decodes a JSON string, asserts there is exactly one element in the decoded\n",
    "    list, and returns that one element.\n",
    "    \"\"\"\n",
    "    tasks = json.loads(value)\n",
    "    assert len(tasks) == 1\n",
    "    return tasks[0]"
   ]
  },
  {
   "cell_type": "markdown",
   "metadata": {},
   "source": [
    "I apply my `load_json` function to the `annotations` column and overwrite the `annotations` column in the DataFrame with the resulting series. If I get an exception here, I know my assumption about a single task per row is incorrect."
   ]
  },
  {
   "cell_type": "code",
   "execution_count": 8,
   "metadata": {},
   "outputs": [],
   "source": [
    "latest_df['annotations'] = latest_df.annotations.apply(load_json)"
   ]
  },
  {
   "cell_type": "markdown",
   "metadata": {},
   "source": [
    "Here's what I now see in `annotations."
   ]
  },
  {
   "cell_type": "code",
   "execution_count": 9,
   "metadata": {},
   "outputs": [
    {
     "data": {
      "text/plain": [
       "127    {'task': 'T0', 'value': [{'choice': 'IMNOTSURE', 'answers': {}, 'filters': {}}]}\n",
       "Name: annotations, dtype: object"
      ]
     },
     "execution_count": 9,
     "metadata": {},
     "output_type": "execute_result"
    }
   ],
   "source": [
    "latest_df.annotations.head(1)"
   ]
  },
  {
   "cell_type": "markdown",
   "metadata": {},
   "source": [
    "Next, I need to insert the `classification_id` in the `task` dictionary stored in the `annotation` column. I need to do this so because the `json_normalize` function only operates on the content of this column, not the surrounding DataFrame."
   ]
  },
  {
   "cell_type": "code",
   "execution_count": 10,
   "metadata": {},
   "outputs": [],
   "source": [
    "def id_annotation(row):\n",
    "    \"\"\"Duplicates the row to avoid modifying the original in place, \n",
    "    adds the value of the classification_id column to the dictionary\n",
    "    in the annotations column, and returns the new row.\n",
    "    \"\"\"\n",
    "    # not strictly necessary, but keeps the original row / dataframe untouched\n",
    "    # immutability is good!\n",
    "    new_row = row.copy()\n",
    "    new_row['annotations']['classification_id'] = new_row['classification_id']\n",
    "    return new_row"
   ]
  },
  {
   "cell_type": "markdown",
   "metadata": {},
   "source": [
    "I apply my `id_annotation` function to the rows of the DataFrame."
   ]
  },
  {
   "cell_type": "code",
   "execution_count": 11,
   "metadata": {},
   "outputs": [],
   "source": [
    "latest_df = latest_df.apply(id_annotation, axis=1)"
   ]
  },
  {
   "cell_type": "markdown",
   "metadata": {},
   "source": [
    "Now I can use the `json_normalize` function explode the `annotation` dictionaries into their own DataFrame. I pass it the `annotations` column, indicate that the `value` list contains the data of interest, and note that it should retain the `classification_id` as metadata associated with each annotation row."
   ]
  },
  {
   "cell_type": "code",
   "execution_count": 12,
   "metadata": {},
   "outputs": [
    {
     "data": {
      "text/html": [
       "<div>\n",
       "<style scoped>\n",
       "    .dataframe tbody tr th:only-of-type {\n",
       "        vertical-align: middle;\n",
       "    }\n",
       "\n",
       "    .dataframe tbody tr th {\n",
       "        vertical-align: top;\n",
       "    }\n",
       "\n",
       "    .dataframe thead th {\n",
       "        text-align: right;\n",
       "    }\n",
       "</style>\n",
       "<table border=\"1\" class=\"dataframe\">\n",
       "  <thead>\n",
       "    <tr style=\"text-align: right;\">\n",
       "      <th></th>\n",
       "      <th>answers</th>\n",
       "      <th>choice</th>\n",
       "      <th>filters</th>\n",
       "      <th>classification_id</th>\n",
       "    </tr>\n",
       "  </thead>\n",
       "  <tbody>\n",
       "    <tr>\n",
       "      <th>4524</th>\n",
       "      <td>{}</td>\n",
       "      <td>NOTHINGHERE</td>\n",
       "      <td>{}</td>\n",
       "      <td>87927318</td>\n",
       "    </tr>\n",
       "    <tr>\n",
       "      <th>4525</th>\n",
       "      <td>{'HOWMANY': '1', 'WHATBEHAVIORSDOYOUSEE': ['STANDING'], 'ARETHEREANYYOUNGPRESENT': 'NO'}</td>\n",
       "      <td>BEAR</td>\n",
       "      <td>{}</td>\n",
       "      <td>87927343</td>\n",
       "    </tr>\n",
       "    <tr>\n",
       "      <th>4526</th>\n",
       "      <td>{'HOWMANY': '1', 'WHATBEHAVIORSDOYOUSEE': ['MOVING'], 'ARETHEREANYYOUNGPRESENT': 'NO'}</td>\n",
       "      <td>DEER</td>\n",
       "      <td>{}</td>\n",
       "      <td>87927361</td>\n",
       "    </tr>\n",
       "    <tr>\n",
       "      <th>4527</th>\n",
       "      <td>{'HOWMANY': '1', 'WHATBEHAVIORSDOYOUSEE': ['MOVING'], 'ARETHEREANYYOUNGPRESENT': 'NO'}</td>\n",
       "      <td>LARGEBIRD</td>\n",
       "      <td>{}</td>\n",
       "      <td>87927425</td>\n",
       "    </tr>\n",
       "    <tr>\n",
       "      <th>4528</th>\n",
       "      <td>{}</td>\n",
       "      <td>IMNOTSURE</td>\n",
       "      <td>{}</td>\n",
       "      <td>87927435</td>\n",
       "    </tr>\n",
       "  </tbody>\n",
       "</table>\n",
       "</div>"
      ],
      "text/plain": [
       "                                                                                       answers  \\\n",
       "4524                                                                                        {}   \n",
       "4525  {'HOWMANY': '1', 'WHATBEHAVIORSDOYOUSEE': ['STANDING'], 'ARETHEREANYYOUNGPRESENT': 'NO'}   \n",
       "4526    {'HOWMANY': '1', 'WHATBEHAVIORSDOYOUSEE': ['MOVING'], 'ARETHEREANYYOUNGPRESENT': 'NO'}   \n",
       "4527    {'HOWMANY': '1', 'WHATBEHAVIORSDOYOUSEE': ['MOVING'], 'ARETHEREANYYOUNGPRESENT': 'NO'}   \n",
       "4528                                                                                        {}   \n",
       "\n",
       "           choice filters  classification_id  \n",
       "4524  NOTHINGHERE      {}           87927318  \n",
       "4525         BEAR      {}           87927343  \n",
       "4526         DEER      {}           87927361  \n",
       "4527    LARGEBIRD      {}           87927425  \n",
       "4528    IMNOTSURE      {}           87927435  "
      ]
     },
     "execution_count": 12,
     "metadata": {},
     "output_type": "execute_result"
    }
   ],
   "source": [
    "raw_annotations_df = pd.io.json.json_normalize(latest_df.annotations, record_path='value', meta='classification_id')\n",
    "raw_annotations_df.tail(5)"
   ]
  },
  {
   "cell_type": "markdown",
   "metadata": {},
   "source": [
    "Better, but I'd really like the dictionaries in the new `answers` column to be columns of their own. I need to apply the `json_normalize` function yet again."
   ]
  },
  {
   "cell_type": "code",
   "execution_count": 16,
   "metadata": {},
   "outputs": [
    {
     "data": {
      "text/html": [
       "<div>\n",
       "<style scoped>\n",
       "    .dataframe tbody tr th:only-of-type {\n",
       "        vertical-align: middle;\n",
       "    }\n",
       "\n",
       "    .dataframe tbody tr th {\n",
       "        vertical-align: top;\n",
       "    }\n",
       "\n",
       "    .dataframe thead th {\n",
       "        text-align: right;\n",
       "    }\n",
       "</style>\n",
       "<table border=\"1\" class=\"dataframe\">\n",
       "  <thead>\n",
       "    <tr style=\"text-align: right;\">\n",
       "      <th></th>\n",
       "      <th>ARETHEREANYYOUNGPRESENT</th>\n",
       "      <th>HOWMANY</th>\n",
       "      <th>WHATBEHAVIORSDOYOUSEE</th>\n",
       "    </tr>\n",
       "  </thead>\n",
       "  <tbody>\n",
       "    <tr>\n",
       "      <th>4524</th>\n",
       "      <td>NaN</td>\n",
       "      <td>NaN</td>\n",
       "      <td>NaN</td>\n",
       "    </tr>\n",
       "    <tr>\n",
       "      <th>4525</th>\n",
       "      <td>NO</td>\n",
       "      <td>1</td>\n",
       "      <td>[STANDING]</td>\n",
       "    </tr>\n",
       "    <tr>\n",
       "      <th>4526</th>\n",
       "      <td>NO</td>\n",
       "      <td>1</td>\n",
       "      <td>[MOVING]</td>\n",
       "    </tr>\n",
       "    <tr>\n",
       "      <th>4527</th>\n",
       "      <td>NO</td>\n",
       "      <td>1</td>\n",
       "      <td>[MOVING]</td>\n",
       "    </tr>\n",
       "    <tr>\n",
       "      <th>4528</th>\n",
       "      <td>NaN</td>\n",
       "      <td>NaN</td>\n",
       "      <td>NaN</td>\n",
       "    </tr>\n",
       "  </tbody>\n",
       "</table>\n",
       "</div>"
      ],
      "text/plain": [
       "     ARETHEREANYYOUNGPRESENT HOWMANY WHATBEHAVIORSDOYOUSEE\n",
       "4524                     NaN     NaN                   NaN\n",
       "4525                      NO       1            [STANDING]\n",
       "4526                      NO       1              [MOVING]\n",
       "4527                      NO       1              [MOVING]\n",
       "4528                     NaN     NaN                   NaN"
      ]
     },
     "execution_count": 16,
     "metadata": {},
     "output_type": "execute_result"
    }
   ],
   "source": [
    "answers_df = pd.io.json.json_normalize(raw_annotations_df.answers.tolist())\n",
    "answers_df.tail(5)"
   ]
  },
  {
   "cell_type": "markdown",
   "metadata": {},
   "source": [
    "Even better. I'm OK with the lists in the `WHATBEHAVIORSDOYOUSEE` column for the moment. I can turn them into separate boolean indicator columns, if warranted.\n",
    "\n",
    "Right now, I want the `raw_annotations_df` and `answers_df` combined into a single DataFrame. Since I know there is exactly one dictionary in the `answers` column per choice, I can merge the two DataFrames based on the simple interger index."
   ]
  },
  {
   "cell_type": "code",
   "execution_count": 17,
   "metadata": {},
   "outputs": [
    {
     "data": {
      "text/html": [
       "<div>\n",
       "<style scoped>\n",
       "    .dataframe tbody tr th:only-of-type {\n",
       "        vertical-align: middle;\n",
       "    }\n",
       "\n",
       "    .dataframe tbody tr th {\n",
       "        vertical-align: top;\n",
       "    }\n",
       "\n",
       "    .dataframe thead th {\n",
       "        text-align: right;\n",
       "    }\n",
       "</style>\n",
       "<table border=\"1\" class=\"dataframe\">\n",
       "  <thead>\n",
       "    <tr style=\"text-align: right;\">\n",
       "      <th></th>\n",
       "      <th>choice</th>\n",
       "      <th>filters</th>\n",
       "      <th>classification_id</th>\n",
       "      <th>ARETHEREANYYOUNGPRESENT</th>\n",
       "      <th>HOWMANY</th>\n",
       "      <th>WHATBEHAVIORSDOYOUSEE</th>\n",
       "    </tr>\n",
       "  </thead>\n",
       "  <tbody>\n",
       "    <tr>\n",
       "      <th>4524</th>\n",
       "      <td>NOTHINGHERE</td>\n",
       "      <td>{}</td>\n",
       "      <td>87927318</td>\n",
       "      <td>NaN</td>\n",
       "      <td>NaN</td>\n",
       "      <td>NaN</td>\n",
       "    </tr>\n",
       "    <tr>\n",
       "      <th>4525</th>\n",
       "      <td>BEAR</td>\n",
       "      <td>{}</td>\n",
       "      <td>87927343</td>\n",
       "      <td>NO</td>\n",
       "      <td>1</td>\n",
       "      <td>[STANDING]</td>\n",
       "    </tr>\n",
       "    <tr>\n",
       "      <th>4526</th>\n",
       "      <td>DEER</td>\n",
       "      <td>{}</td>\n",
       "      <td>87927361</td>\n",
       "      <td>NO</td>\n",
       "      <td>1</td>\n",
       "      <td>[MOVING]</td>\n",
       "    </tr>\n",
       "    <tr>\n",
       "      <th>4527</th>\n",
       "      <td>LARGEBIRD</td>\n",
       "      <td>{}</td>\n",
       "      <td>87927425</td>\n",
       "      <td>NO</td>\n",
       "      <td>1</td>\n",
       "      <td>[MOVING]</td>\n",
       "    </tr>\n",
       "    <tr>\n",
       "      <th>4528</th>\n",
       "      <td>IMNOTSURE</td>\n",
       "      <td>{}</td>\n",
       "      <td>87927435</td>\n",
       "      <td>NaN</td>\n",
       "      <td>NaN</td>\n",
       "      <td>NaN</td>\n",
       "    </tr>\n",
       "  </tbody>\n",
       "</table>\n",
       "</div>"
      ],
      "text/plain": [
       "           choice filters  classification_id ARETHEREANYYOUNGPRESENT HOWMANY  \\\n",
       "4524  NOTHINGHERE      {}           87927318                     NaN     NaN   \n",
       "4525         BEAR      {}           87927343                      NO       1   \n",
       "4526         DEER      {}           87927361                      NO       1   \n",
       "4527    LARGEBIRD      {}           87927425                      NO       1   \n",
       "4528    IMNOTSURE      {}           87927435                     NaN     NaN   \n",
       "\n",
       "     WHATBEHAVIORSDOYOUSEE  \n",
       "4524                   NaN  \n",
       "4525            [STANDING]  \n",
       "4526              [MOVING]  \n",
       "4527              [MOVING]  \n",
       "4528                   NaN  "
      ]
     },
     "execution_count": 17,
     "metadata": {},
     "output_type": "execute_result"
    }
   ],
   "source": [
    "annotations_df = pd.merge(raw_annotations_df.drop('answers', axis=1), answers_df, left_index=True, right_index=True)\n",
    "annotations_df.tail(5)"
   ]
  },
  {
   "cell_type": "markdown",
   "metadata": {},
   "source": [
    "I noted above that the `HOWMANY` was stored as a string in the original JSON. I can't turn that column into integers if I want to preserve the NaNs for non-responses, but I can use floats."
   ]
  },
  {
   "cell_type": "code",
   "execution_count": 18,
   "metadata": {},
   "outputs": [],
   "source": [
    "annotations_df['HOWMANY'] = annotations_df.HOWMANY.astype(float)"
   ]
  },
  {
   "cell_type": "markdown",
   "metadata": {},
   "source": [
    "I see only empty dictionaries in the `filters` column. Do I really need to keep it?"
   ]
  },
  {
   "cell_type": "code",
   "execution_count": 19,
   "metadata": {},
   "outputs": [
    {
     "data": {
      "text/plain": [
       "True"
      ]
     },
     "execution_count": 19,
     "metadata": {},
     "output_type": "execute_result"
    }
   ],
   "source": [
    "annotations_df.filters.apply(lambda x: len(x) == 0).all()"
   ]
  },
  {
   "cell_type": "markdown",
   "metadata": {},
   "source": [
    "Nope.\n",
    "\n",
    "With that in mind, I want to perform the following bits of cleanup before declaring victory.\n",
    "\n",
    "* Rename the ALLCAPS columns\n",
    "* Reorder the columns\n",
    "* Drop the empty `filters` column\n",
    "* Make the values in the `young_present` column proper booleans, preserving NaNs for missing data"
   ]
  },
  {
   "cell_type": "code",
   "execution_count": 20,
   "metadata": {},
   "outputs": [],
   "source": [
    "final_annotations_df = annotations_df.rename(columns={\n",
    "    'ARETHEREANYYOUNGPRESENT': 'young_present',\n",
    "    'HOWMANY': 'how_many',\n",
    "    'WHATBEHAVIORSDOYOUSEE': 'behaviors_seen'\n",
    "}).reindex(columns=['classification_id', 'choice', 'how_many', 'behaviors_seen', 'young_present'])\n",
    "final_annotations_df['young_present'] = final_annotations_df.young_present.apply(lambda x: x if pd.isna(x) else x == 'YES')"
   ]
  },
  {
   "cell_type": "code",
   "execution_count": 21,
   "metadata": {},
   "outputs": [
    {
     "data": {
      "text/html": [
       "<div>\n",
       "<style scoped>\n",
       "    .dataframe tbody tr th:only-of-type {\n",
       "        vertical-align: middle;\n",
       "    }\n",
       "\n",
       "    .dataframe tbody tr th {\n",
       "        vertical-align: top;\n",
       "    }\n",
       "\n",
       "    .dataframe thead th {\n",
       "        text-align: right;\n",
       "    }\n",
       "</style>\n",
       "<table border=\"1\" class=\"dataframe\">\n",
       "  <thead>\n",
       "    <tr style=\"text-align: right;\">\n",
       "      <th></th>\n",
       "      <th>classification_id</th>\n",
       "      <th>choice</th>\n",
       "      <th>how_many</th>\n",
       "      <th>behaviors_seen</th>\n",
       "      <th>young_present</th>\n",
       "    </tr>\n",
       "  </thead>\n",
       "  <tbody>\n",
       "    <tr>\n",
       "      <th>4524</th>\n",
       "      <td>87927318</td>\n",
       "      <td>NOTHINGHERE</td>\n",
       "      <td>NaN</td>\n",
       "      <td>NaN</td>\n",
       "      <td>NaN</td>\n",
       "    </tr>\n",
       "    <tr>\n",
       "      <th>4525</th>\n",
       "      <td>87927343</td>\n",
       "      <td>BEAR</td>\n",
       "      <td>1.0</td>\n",
       "      <td>[STANDING]</td>\n",
       "      <td>False</td>\n",
       "    </tr>\n",
       "    <tr>\n",
       "      <th>4526</th>\n",
       "      <td>87927361</td>\n",
       "      <td>DEER</td>\n",
       "      <td>1.0</td>\n",
       "      <td>[MOVING]</td>\n",
       "      <td>False</td>\n",
       "    </tr>\n",
       "    <tr>\n",
       "      <th>4527</th>\n",
       "      <td>87927425</td>\n",
       "      <td>LARGEBIRD</td>\n",
       "      <td>1.0</td>\n",
       "      <td>[MOVING]</td>\n",
       "      <td>False</td>\n",
       "    </tr>\n",
       "    <tr>\n",
       "      <th>4528</th>\n",
       "      <td>87927435</td>\n",
       "      <td>IMNOTSURE</td>\n",
       "      <td>NaN</td>\n",
       "      <td>NaN</td>\n",
       "      <td>NaN</td>\n",
       "    </tr>\n",
       "  </tbody>\n",
       "</table>\n",
       "</div>"
      ],
      "text/plain": [
       "      classification_id       choice  how_many behaviors_seen young_present\n",
       "4524           87927318  NOTHINGHERE       NaN            NaN           NaN\n",
       "4525           87927343         BEAR       1.0     [STANDING]         False\n",
       "4526           87927361         DEER       1.0       [MOVING]         False\n",
       "4527           87927425    LARGEBIRD       1.0       [MOVING]         False\n",
       "4528           87927435    IMNOTSURE       NaN            NaN           NaN"
      ]
     },
     "execution_count": 21,
     "metadata": {},
     "output_type": "execute_result"
    }
   ],
   "source": [
    "final_annotations_df.tail(5)"
   ]
  },
  {
   "cell_type": "markdown",
   "metadata": {},
   "source": [
    "Done. Now I can easily query the DataFrame to answer questions like, how many time did users believe young were present?"
   ]
  },
  {
   "cell_type": "code",
   "execution_count": 22,
   "metadata": {},
   "outputs": [
    {
     "data": {
      "text/plain": [
       "False    1626\n",
       "True       69\n",
       "Name: young_present, dtype: int64"
      ]
     },
     "execution_count": 22,
     "metadata": {},
     "output_type": "execute_result"
    }
   ],
   "source": [
    "final_annotations_df.young_present.value_counts()"
   ]
  },
  {
   "cell_type": "markdown",
   "metadata": {},
   "source": [
    "What species of young did annotators believe they saw?"
   ]
  },
  {
   "cell_type": "code",
   "execution_count": 23,
   "metadata": {},
   "outputs": [
    {
     "data": {
      "text/plain": [
       "BEAR                        48\n",
       "INSECTORSPIDER               5\n",
       "DEER                         4\n",
       "SMALLBIRD                    3\n",
       "REDWOLF                      3\n",
       "OPOSSUM                      2\n",
       "COYOTE                       1\n",
       "FROGTOADOROTHERAMPHIBIAN     1\n",
       "LARGEBIRD                    1\n",
       "RACCOON                      1\n",
       "Name: choice, dtype: int64"
      ]
     },
     "execution_count": 23,
     "metadata": {},
     "output_type": "execute_result"
    }
   ],
   "source": [
    "df = final_annotations_df.dropna()\n",
    "df[df.young_present]['choice'].value_counts()"
   ]
  },
  {
   "cell_type": "markdown",
   "metadata": {},
   "source": [
    "How many times did people think they saw more than one red wolf together?"
   ]
  },
  {
   "cell_type": "code",
   "execution_count": 24,
   "metadata": {},
   "outputs": [
    {
     "data": {
      "text/html": [
       "<div>\n",
       "<style scoped>\n",
       "    .dataframe tbody tr th:only-of-type {\n",
       "        vertical-align: middle;\n",
       "    }\n",
       "\n",
       "    .dataframe tbody tr th {\n",
       "        vertical-align: top;\n",
       "    }\n",
       "\n",
       "    .dataframe thead th {\n",
       "        text-align: right;\n",
       "    }\n",
       "</style>\n",
       "<table border=\"1\" class=\"dataframe\">\n",
       "  <thead>\n",
       "    <tr style=\"text-align: right;\">\n",
       "      <th></th>\n",
       "      <th>classification_id</th>\n",
       "      <th>choice</th>\n",
       "      <th>how_many</th>\n",
       "      <th>behaviors_seen</th>\n",
       "      <th>young_present</th>\n",
       "    </tr>\n",
       "  </thead>\n",
       "  <tbody>\n",
       "    <tr>\n",
       "      <th>1378</th>\n",
       "      <td>74012494</td>\n",
       "      <td>REDWOLF</td>\n",
       "      <td>6.0</td>\n",
       "      <td>[STANDING]</td>\n",
       "      <td>NaN</td>\n",
       "    </tr>\n",
       "    <tr>\n",
       "      <th>2389</th>\n",
       "      <td>74441376</td>\n",
       "      <td>REDWOLF</td>\n",
       "      <td>4.0</td>\n",
       "      <td>[STANDING]</td>\n",
       "      <td>True</td>\n",
       "    </tr>\n",
       "  </tbody>\n",
       "</table>\n",
       "</div>"
      ],
      "text/plain": [
       "      classification_id   choice  how_many behaviors_seen young_present\n",
       "1378           74012494  REDWOLF       6.0     [STANDING]           NaN\n",
       "2389           74441376  REDWOLF       4.0     [STANDING]          True"
      ]
     },
     "execution_count": 24,
     "metadata": {},
     "output_type": "execute_result"
    }
   ],
   "source": [
    "df = final_annotations_df\n",
    "df[df.choice.str.contains('WOLF') & (df.how_many > 1)]"
   ]
  },
  {
   "cell_type": "markdown",
   "metadata": {},
   "source": [
    "## Join on classification ID"
   ]
  },
  {
   "cell_type": "markdown",
   "metadata": {},
   "source": [
    "I mentioned at the top that I'd really love to see the images associated with each response. I know I can show images in my notebook with Jupyter. I know the datset has a subject image filename per row. And I know I can join my new annotation DataFrame with the original based on the classification ID."
   ]
  },
  {
   "cell_type": "code",
   "execution_count": 25,
   "metadata": {},
   "outputs": [],
   "source": [
    "subject_df = latest_df[['classification_id', 'subject_ids', 'subject_data']].copy()\n",
    "# the apply() function here should probably be split up; it's messy!\n",
    "subject_df['subject_data'] = subject_df.subject_data.apply(lambda x: list(json.loads(x).values())[0]['Filename'])"
   ]
  },
  {
   "cell_type": "code",
   "execution_count": 26,
   "metadata": {},
   "outputs": [
    {
     "data": {
      "text/html": [
       "<div>\n",
       "<style scoped>\n",
       "    .dataframe tbody tr th:only-of-type {\n",
       "        vertical-align: middle;\n",
       "    }\n",
       "\n",
       "    .dataframe tbody tr th {\n",
       "        vertical-align: top;\n",
       "    }\n",
       "\n",
       "    .dataframe thead th {\n",
       "        text-align: right;\n",
       "    }\n",
       "</style>\n",
       "<table border=\"1\" class=\"dataframe\">\n",
       "  <thead>\n",
       "    <tr style=\"text-align: right;\">\n",
       "      <th></th>\n",
       "      <th>classification_id</th>\n",
       "      <th>subject_ids</th>\n",
       "      <th>subject_data</th>\n",
       "      <th>choice</th>\n",
       "      <th>how_many</th>\n",
       "      <th>behaviors_seen</th>\n",
       "      <th>young_present</th>\n",
       "    </tr>\n",
       "  </thead>\n",
       "  <tbody>\n",
       "    <tr>\n",
       "      <th>1535</th>\n",
       "      <td>74034519</td>\n",
       "      <td>10710544</td>\n",
       "      <td>mfdc8971_34714504870_o.jpg</td>\n",
       "      <td>IMNOTSURE</td>\n",
       "      <td>NaN</td>\n",
       "      <td>NaN</td>\n",
       "      <td>NaN</td>\n",
       "    </tr>\n",
       "    <tr>\n",
       "      <th>2162</th>\n",
       "      <td>74328177</td>\n",
       "      <td>10710667</td>\n",
       "      <td>mfdc9243_34936937662_o.jpg</td>\n",
       "      <td>BEAR</td>\n",
       "      <td>1.0</td>\n",
       "      <td>[STANDING]</td>\n",
       "      <td>False</td>\n",
       "    </tr>\n",
       "    <tr>\n",
       "      <th>1016</th>\n",
       "      <td>73809536</td>\n",
       "      <td>10710361</td>\n",
       "      <td>mfdc8571_34714485120_o.jpg</td>\n",
       "      <td>INSECTORSPIDER</td>\n",
       "      <td>1.0</td>\n",
       "      <td>[RESTING]</td>\n",
       "      <td>False</td>\n",
       "    </tr>\n",
       "    <tr>\n",
       "      <th>3758</th>\n",
       "      <td>85603956</td>\n",
       "      <td>10710291</td>\n",
       "      <td>mfdc8412_34714486870_o.jpg</td>\n",
       "      <td>BEAR</td>\n",
       "      <td>1.0</td>\n",
       "      <td>[STANDING, MOVING]</td>\n",
       "      <td>False</td>\n",
       "    </tr>\n",
       "    <tr>\n",
       "      <th>3670</th>\n",
       "      <td>85553462</td>\n",
       "      <td>10723060</td>\n",
       "      <td>MFDC4591.jpg</td>\n",
       "      <td>BEAR</td>\n",
       "      <td>1.0</td>\n",
       "      <td>[MOVING]</td>\n",
       "      <td>False</td>\n",
       "    </tr>\n",
       "    <tr>\n",
       "      <th>1802</th>\n",
       "      <td>74304714</td>\n",
       "      <td>10710123</td>\n",
       "      <td>mfdc7679_28924143184_o.jpg</td>\n",
       "      <td>IMNOTSURE</td>\n",
       "      <td>NaN</td>\n",
       "      <td>NaN</td>\n",
       "      <td>NaN</td>\n",
       "    </tr>\n",
       "    <tr>\n",
       "      <th>4218</th>\n",
       "      <td>86274441</td>\n",
       "      <td>10710019</td>\n",
       "      <td>mfdc7387_28924148384_o.jpg</td>\n",
       "      <td>BEAR</td>\n",
       "      <td>1.0</td>\n",
       "      <td>[MOVING]</td>\n",
       "      <td>False</td>\n",
       "    </tr>\n",
       "    <tr>\n",
       "      <th>3066</th>\n",
       "      <td>78455314</td>\n",
       "      <td>10710370</td>\n",
       "      <td>mfdc8616_34714484930_o.jpg</td>\n",
       "      <td>INSECTORSPIDER</td>\n",
       "      <td>1.0</td>\n",
       "      <td>[MOVING]</td>\n",
       "      <td>False</td>\n",
       "    </tr>\n",
       "    <tr>\n",
       "      <th>2999</th>\n",
       "      <td>78455046</td>\n",
       "      <td>10723000</td>\n",
       "      <td>MFDC3998.jpg</td>\n",
       "      <td>IMNOTSURE</td>\n",
       "      <td>NaN</td>\n",
       "      <td>NaN</td>\n",
       "      <td>NaN</td>\n",
       "    </tr>\n",
       "    <tr>\n",
       "      <th>3410</th>\n",
       "      <td>85235941</td>\n",
       "      <td>10710345</td>\n",
       "      <td>mfdc8536_34714485700_o.jpg</td>\n",
       "      <td>IMNOTSURE</td>\n",
       "      <td>NaN</td>\n",
       "      <td>NaN</td>\n",
       "      <td>NaN</td>\n",
       "    </tr>\n",
       "    <tr>\n",
       "      <th>3831</th>\n",
       "      <td>85646730</td>\n",
       "      <td>10710279</td>\n",
       "      <td>mfdc8383_34714487090_o.jpg</td>\n",
       "      <td>NOTHINGHERE</td>\n",
       "      <td>NaN</td>\n",
       "      <td>NaN</td>\n",
       "      <td>NaN</td>\n",
       "    </tr>\n",
       "    <tr>\n",
       "      <th>1603</th>\n",
       "      <td>74176152</td>\n",
       "      <td>10722972</td>\n",
       "      <td>MFDC3657.jpg</td>\n",
       "      <td>IMNOTSURE</td>\n",
       "      <td>NaN</td>\n",
       "      <td>NaN</td>\n",
       "      <td>NaN</td>\n",
       "    </tr>\n",
       "    <tr>\n",
       "      <th>1848</th>\n",
       "      <td>74306655</td>\n",
       "      <td>10710431</td>\n",
       "      <td>mfdc8778_34936905762_o.jpg</td>\n",
       "      <td>DEER</td>\n",
       "      <td>1.0</td>\n",
       "      <td>[STANDING]</td>\n",
       "      <td>False</td>\n",
       "    </tr>\n",
       "    <tr>\n",
       "      <th>243</th>\n",
       "      <td>68855953</td>\n",
       "      <td>10709982</td>\n",
       "      <td>mfdc7337_29259615880_o.jpg</td>\n",
       "      <td>IMNOTSURE</td>\n",
       "      <td>NaN</td>\n",
       "      <td>NaN</td>\n",
       "      <td>NaN</td>\n",
       "    </tr>\n",
       "    <tr>\n",
       "      <th>532</th>\n",
       "      <td>70049072</td>\n",
       "      <td>10710479</td>\n",
       "      <td>mfdc8850_34936904002_o.jpg</td>\n",
       "      <td>IMNOTSURE</td>\n",
       "      <td>NaN</td>\n",
       "      <td>NaN</td>\n",
       "      <td>NaN</td>\n",
       "    </tr>\n",
       "    <tr>\n",
       "      <th>3895</th>\n",
       "      <td>85650038</td>\n",
       "      <td>10710646</td>\n",
       "      <td>mfdc9225_35101383905_o.jpg</td>\n",
       "      <td>IMNOTSURE</td>\n",
       "      <td>NaN</td>\n",
       "      <td>NaN</td>\n",
       "      <td>NaN</td>\n",
       "    </tr>\n",
       "    <tr>\n",
       "      <th>3602</th>\n",
       "      <td>85552752</td>\n",
       "      <td>10710132</td>\n",
       "      <td>mfdc7686_28926515213_o.jpg</td>\n",
       "      <td>BEAR</td>\n",
       "      <td>1.0</td>\n",
       "      <td>[MOVING]</td>\n",
       "      <td>False</td>\n",
       "    </tr>\n",
       "    <tr>\n",
       "      <th>1226</th>\n",
       "      <td>73865969</td>\n",
       "      <td>10709948</td>\n",
       "      <td>mfdc7312_29515381636_o.jpg</td>\n",
       "      <td>IMNOTSURE</td>\n",
       "      <td>NaN</td>\n",
       "      <td>NaN</td>\n",
       "      <td>NaN</td>\n",
       "    </tr>\n",
       "    <tr>\n",
       "      <th>2848</th>\n",
       "      <td>78454352</td>\n",
       "      <td>10710150</td>\n",
       "      <td>mfdc7757_28926514083_o.jpg</td>\n",
       "      <td>BEAR</td>\n",
       "      <td>1.0</td>\n",
       "      <td>[STANDING, MOVING]</td>\n",
       "      <td>False</td>\n",
       "    </tr>\n",
       "    <tr>\n",
       "      <th>3094</th>\n",
       "      <td>78455454</td>\n",
       "      <td>10709938</td>\n",
       "      <td>mfdc7295_29515382776_o.jpg</td>\n",
       "      <td>FIRE</td>\n",
       "      <td>NaN</td>\n",
       "      <td>NaN</td>\n",
       "      <td>NaN</td>\n",
       "    </tr>\n",
       "  </tbody>\n",
       "</table>\n",
       "</div>"
      ],
      "text/plain": [
       "      classification_id  subject_ids                subject_data  \\\n",
       "1535           74034519     10710544  mfdc8971_34714504870_o.jpg   \n",
       "2162           74328177     10710667  mfdc9243_34936937662_o.jpg   \n",
       "1016           73809536     10710361  mfdc8571_34714485120_o.jpg   \n",
       "3758           85603956     10710291  mfdc8412_34714486870_o.jpg   \n",
       "3670           85553462     10723060                MFDC4591.jpg   \n",
       "1802           74304714     10710123  mfdc7679_28924143184_o.jpg   \n",
       "4218           86274441     10710019  mfdc7387_28924148384_o.jpg   \n",
       "3066           78455314     10710370  mfdc8616_34714484930_o.jpg   \n",
       "2999           78455046     10723000                MFDC3998.jpg   \n",
       "3410           85235941     10710345  mfdc8536_34714485700_o.jpg   \n",
       "3831           85646730     10710279  mfdc8383_34714487090_o.jpg   \n",
       "1603           74176152     10722972                MFDC3657.jpg   \n",
       "1848           74306655     10710431  mfdc8778_34936905762_o.jpg   \n",
       "243            68855953     10709982  mfdc7337_29259615880_o.jpg   \n",
       "532            70049072     10710479  mfdc8850_34936904002_o.jpg   \n",
       "3895           85650038     10710646  mfdc9225_35101383905_o.jpg   \n",
       "3602           85552752     10710132  mfdc7686_28926515213_o.jpg   \n",
       "1226           73865969     10709948  mfdc7312_29515381636_o.jpg   \n",
       "2848           78454352     10710150  mfdc7757_28926514083_o.jpg   \n",
       "3094           78455454     10709938  mfdc7295_29515382776_o.jpg   \n",
       "\n",
       "              choice  how_many      behaviors_seen young_present  \n",
       "1535       IMNOTSURE       NaN                 NaN           NaN  \n",
       "2162            BEAR       1.0          [STANDING]         False  \n",
       "1016  INSECTORSPIDER       1.0           [RESTING]         False  \n",
       "3758            BEAR       1.0  [STANDING, MOVING]         False  \n",
       "3670            BEAR       1.0            [MOVING]         False  \n",
       "1802       IMNOTSURE       NaN                 NaN           NaN  \n",
       "4218            BEAR       1.0            [MOVING]         False  \n",
       "3066  INSECTORSPIDER       1.0            [MOVING]         False  \n",
       "2999       IMNOTSURE       NaN                 NaN           NaN  \n",
       "3410       IMNOTSURE       NaN                 NaN           NaN  \n",
       "3831     NOTHINGHERE       NaN                 NaN           NaN  \n",
       "1603       IMNOTSURE       NaN                 NaN           NaN  \n",
       "1848            DEER       1.0          [STANDING]         False  \n",
       "243        IMNOTSURE       NaN                 NaN           NaN  \n",
       "532        IMNOTSURE       NaN                 NaN           NaN  \n",
       "3895       IMNOTSURE       NaN                 NaN           NaN  \n",
       "3602            BEAR       1.0            [MOVING]         False  \n",
       "1226       IMNOTSURE       NaN                 NaN           NaN  \n",
       "2848            BEAR       1.0  [STANDING, MOVING]         False  \n",
       "3094            FIRE       NaN                 NaN           NaN  "
      ]
     },
     "execution_count": 26,
     "metadata": {},
     "output_type": "execute_result"
    }
   ],
   "source": [
    "subject_annotation_df = pd.merge(subject_df, final_annotations_df, how='outer', left_on='classification_id', right_on='classification_id')\n",
    "subject_annotation_df.sample(20)"
   ]
  },
  {
   "cell_type": "markdown",
   "metadata": {},
   "source": [
    "The link I'm missing is how I might use the image filenames or subject ID to resolve an image stored on the Zooniverse site. I see that when I'm classifying images, the page points to images using URLs like https://panoptes-uploads.zooniverse.org/production/subject_location/4ff121d7-13f2-47b2-86ea-dfdfc92c953d.jpeg but I don't know how to lookup or formulate an image name like that."
   ]
  }
 ],
 "metadata": {
  "kernelspec": {
   "display_name": "Python 3",
   "language": "python",
   "name": "python3"
  },
  "language_info": {
   "codemirror_mode": {
    "name": "ipython",
    "version": 3
   },
   "file_extension": ".py",
   "mimetype": "text/x-python",
   "name": "python",
   "nbconvert_exporter": "python",
   "pygments_lexer": "ipython3",
   "version": "3.6.5"
  }
 },
 "nbformat": 4,
 "nbformat_minor": 2
}
